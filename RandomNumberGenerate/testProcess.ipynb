{
 "cells": [
  {
   "cell_type": "code",
   "execution_count": 1,
   "metadata": {
    "collapsed": true,
    "pycharm": {
     "is_executing": false
    }
   },
   "outputs": [],
   "source": [
    "import pandas as pd"
   ]
  },
  {
   "cell_type": "code",
   "execution_count": 2,
   "outputs": [
    {
     "data": {
      "text/plain": "   Unnamed: 0  BaseStation  interArrivalTime  callDuration    carSpeed  \\\n0           1         11.0          0.998918    251.361734  119.162846   \n1           2         10.0          2.093738     29.851543  117.744826   \n2           3         17.0          1.133588     94.357419  125.799551   \n3           4          8.0          1.557188    179.100985  123.895173   \n4           5         13.0          2.024436    843.421705  123.637378   \n\n   direction     position  \n0        0.0   952.142157  \n1        0.0  1645.438253  \n2        1.0   348.043741  \n3        1.0  1448.910325  \n4        1.0  1972.253079  ",
      "text/html": "<div>\n<style scoped>\n    .dataframe tbody tr th:only-of-type {\n        vertical-align: middle;\n    }\n\n    .dataframe tbody tr th {\n        vertical-align: top;\n    }\n\n    .dataframe thead th {\n        text-align: right;\n    }\n</style>\n<table border=\"1\" class=\"dataframe\">\n  <thead>\n    <tr style=\"text-align: right;\">\n      <th></th>\n      <th>Unnamed: 0</th>\n      <th>BaseStation</th>\n      <th>interArrivalTime</th>\n      <th>callDuration</th>\n      <th>carSpeed</th>\n      <th>direction</th>\n      <th>position</th>\n    </tr>\n  </thead>\n  <tbody>\n    <tr>\n      <th>0</th>\n      <td>1</td>\n      <td>11.0</td>\n      <td>0.998918</td>\n      <td>251.361734</td>\n      <td>119.162846</td>\n      <td>0.0</td>\n      <td>952.142157</td>\n    </tr>\n    <tr>\n      <th>1</th>\n      <td>2</td>\n      <td>10.0</td>\n      <td>2.093738</td>\n      <td>29.851543</td>\n      <td>117.744826</td>\n      <td>0.0</td>\n      <td>1645.438253</td>\n    </tr>\n    <tr>\n      <th>2</th>\n      <td>3</td>\n      <td>17.0</td>\n      <td>1.133588</td>\n      <td>94.357419</td>\n      <td>125.799551</td>\n      <td>1.0</td>\n      <td>348.043741</td>\n    </tr>\n    <tr>\n      <th>3</th>\n      <td>4</td>\n      <td>8.0</td>\n      <td>1.557188</td>\n      <td>179.100985</td>\n      <td>123.895173</td>\n      <td>1.0</td>\n      <td>1448.910325</td>\n    </tr>\n    <tr>\n      <th>4</th>\n      <td>5</td>\n      <td>13.0</td>\n      <td>2.024436</td>\n      <td>843.421705</td>\n      <td>123.637378</td>\n      <td>1.0</td>\n      <td>1972.253079</td>\n    </tr>\n  </tbody>\n</table>\n</div>"
     },
     "metadata": {},
     "output_type": "execute_result",
     "execution_count": 2
    }
   ],
   "source": [
    "df = pd.read_csv(\"test.csv\")\n",
    "df.head()\n"
   ],
   "metadata": {
    "collapsed": false,
    "pycharm": {
     "name": "#%%\n",
     "is_executing": false
    }
   }
  },
  {
   "cell_type": "code",
   "execution_count": null,
   "outputs": [],
   "source": [
    "\n"
   ],
   "metadata": {
    "collapsed": false,
    "pycharm": {
     "name": "#%%\n"
    }
   }
  }
 ],
 "metadata": {
  "kernelspec": {
   "display_name": "Python 3",
   "language": "python",
   "name": "python3"
  },
  "language_info": {
   "codemirror_mode": {
    "name": "ipython",
    "version": 2
   },
   "file_extension": ".py",
   "mimetype": "text/x-python",
   "name": "python",
   "nbconvert_exporter": "python",
   "pygments_lexer": "ipython2",
   "version": "2.7.6"
  },
  "pycharm": {
   "stem_cell": {
    "cell_type": "raw",
    "source": [],
    "metadata": {
     "collapsed": false
    }
   }
  }
 },
 "nbformat": 4,
 "nbformat_minor": 0
}