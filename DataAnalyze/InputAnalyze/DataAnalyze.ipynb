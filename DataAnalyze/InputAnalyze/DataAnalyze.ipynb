{
 "cells": [
  {
   "cell_type": "code",
   "execution_count": 1,
   "metadata": {
    "collapsed": true,
    "pycharm": {
     "is_executing": false
    }
   },
   "outputs": [],
   "source": [
    "import pandas as pd"
   ]
  },
  {
   "cell_type": "code",
   "execution_count": 6,
   "outputs": [
    {
     "data": {
      "text/plain": "   Arrival no  Arrival time (sec)  Base station   Call duration (sec)  \\\n0           1            0.000000             18            76.133611   \n1           2            0.067744              7           159.056244   \n2           3            0.559184              6           179.465053   \n3           4            0.625319             14           163.108320   \n4           5            1.345066              2            95.054472   \n\n   velocity (km/h)  \n0       125.934254  \n1        95.510881  \n2       127.757456  \n3       134.310552  \n4       112.272359  ",
      "text/html": "<div>\n<style scoped>\n    .dataframe tbody tr th:only-of-type {\n        vertical-align: middle;\n    }\n\n    .dataframe tbody tr th {\n        vertical-align: top;\n    }\n\n    .dataframe thead th {\n        text-align: right;\n    }\n</style>\n<table border=\"1\" class=\"dataframe\">\n  <thead>\n    <tr style=\"text-align: right;\">\n      <th></th>\n      <th>Arrival no</th>\n      <th>Arrival time (sec)</th>\n      <th>Base station</th>\n      <th>Call duration (sec)</th>\n      <th>velocity (km/h)</th>\n    </tr>\n  </thead>\n  <tbody>\n    <tr>\n      <th>0</th>\n      <td>1</td>\n      <td>0.000000</td>\n      <td>18</td>\n      <td>76.133611</td>\n      <td>125.934254</td>\n    </tr>\n    <tr>\n      <th>1</th>\n      <td>2</td>\n      <td>0.067744</td>\n      <td>7</td>\n      <td>159.056244</td>\n      <td>95.510881</td>\n    </tr>\n    <tr>\n      <th>2</th>\n      <td>3</td>\n      <td>0.559184</td>\n      <td>6</td>\n      <td>179.465053</td>\n      <td>127.757456</td>\n    </tr>\n    <tr>\n      <th>3</th>\n      <td>4</td>\n      <td>0.625319</td>\n      <td>14</td>\n      <td>163.108320</td>\n      <td>134.310552</td>\n    </tr>\n    <tr>\n      <th>4</th>\n      <td>5</td>\n      <td>1.345066</td>\n      <td>2</td>\n      <td>95.054472</td>\n      <td>112.272359</td>\n    </tr>\n  </tbody>\n</table>\n</div>"
     },
     "metadata": {},
     "output_type": "execute_result",
     "execution_count": 6
    }
   ],
   "source": [
    "df = pd.read_excel('PCS_TEST_DETERMINSTIC.xls')\n",
    "df.head()"
   ],
   "metadata": {
    "collapsed": false,
    "pycharm": {
     "name": "#%%\n",
     "is_executing": false
    }
   }
  },
  {
   "cell_type": "code",
   "execution_count": 8,
   "outputs": [
    {
     "data": {
      "text/plain": "Index(['Arrival no', 'Arrival time (sec)', 'Base station ',\n       'Call duration (sec)', 'velocity (km/h)'],\n      dtype='object')"
     },
     "execution_count": 8,
     "metadata": {},
     "output_type": "execute_result"
    }
   ],
   "source": [
    "df.columns"
   ],
   "metadata": {
    "collapsed": false,
    "pycharm": {
     "name": "#%%\n"
    }
   }
  },
  {
   "cell_type": "markdown",
   "source": [
    "Arrival Time analysis"
   ],
   "metadata": {
    "collapsed": false,
    "pycharm": {
     "name": "#%% md\n"
    }
   }
  },
  {
   "cell_type": "code",
   "execution_count": 38,
   "outputs": [
    {
     "data": {
      "text/plain": "      Arrival time (sec)\n0               0.000000\n1               0.067744\n2               0.559184\n3               0.625319\n4               1.345066\n...                  ...\n9995        13692.269647\n9996        13692.593630\n9997        13694.615122\n9998        13695.404091\n9999        13696.799448\n\n[10000 rows x 1 columns]",
      "text/html": "<div>\n<style scoped>\n    .dataframe tbody tr th:only-of-type {\n        vertical-align: middle;\n    }\n\n    .dataframe tbody tr th {\n        vertical-align: top;\n    }\n\n    .dataframe thead th {\n        text-align: right;\n    }\n</style>\n<table border=\"1\" class=\"dataframe\">\n  <thead>\n    <tr style=\"text-align: right;\">\n      <th></th>\n      <th>Arrival time (sec)</th>\n    </tr>\n  </thead>\n  <tbody>\n    <tr>\n      <th>0</th>\n      <td>0.000000</td>\n    </tr>\n    <tr>\n      <th>1</th>\n      <td>0.067744</td>\n    </tr>\n    <tr>\n      <th>2</th>\n      <td>0.559184</td>\n    </tr>\n    <tr>\n      <th>3</th>\n      <td>0.625319</td>\n    </tr>\n    <tr>\n      <th>4</th>\n      <td>1.345066</td>\n    </tr>\n    <tr>\n      <th>...</th>\n      <td>...</td>\n    </tr>\n    <tr>\n      <th>9995</th>\n      <td>13692.269647</td>\n    </tr>\n    <tr>\n      <th>9996</th>\n      <td>13692.593630</td>\n    </tr>\n    <tr>\n      <th>9997</th>\n      <td>13694.615122</td>\n    </tr>\n    <tr>\n      <th>9998</th>\n      <td>13695.404091</td>\n    </tr>\n    <tr>\n      <th>9999</th>\n      <td>13696.799448</td>\n    </tr>\n  </tbody>\n</table>\n<p>10000 rows × 1 columns</p>\n</div>"
     },
     "execution_count": 38,
     "metadata": {},
     "output_type": "execute_result"
    }
   ],
   "source": [
    "arrival_time_df = pd.DataFrame(df['Arrival time (sec)'])\n",
    "arrival_time_df"
   ],
   "metadata": {
    "collapsed": false,
    "pycharm": {
     "name": "#%%\n"
    }
   }
  },
  {
   "cell_type": "code",
   "execution_count": null,
   "outputs": [],
   "source": [
    "compare_time = arrival_time_df['Arrival time (sec)'][0:len(arrival_time_df)-1].to_list()\n",
    "compare_time.insert(0, 0)"
   ],
   "metadata": {
    "collapsed": false,
    "pycharm": {
     "name": "#%%\n"
    }
   }
  },
  {
   "cell_type": "code",
   "execution_count": 46,
   "outputs": [],
   "source": [
    "arrival_time_df['compare_time'] = compare_time"
   ],
   "metadata": {
    "collapsed": false,
    "pycharm": {
     "name": "#%%\n"
    }
   }
  },
  {
   "cell_type": "code",
   "execution_count": 47,
   "outputs": [
    {
     "data": {
      "text/plain": "      Arrival time (sec)  compare_time\n0               0.000000      0.000000\n1               0.067744      0.000000\n2               0.559184      0.067744\n3               0.625319      0.559184\n4               1.345066      0.625319\n...                  ...           ...\n9995        13692.269647  13690.969302\n9996        13692.593630  13692.269647\n9997        13694.615122  13692.593630\n9998        13695.404091  13694.615122\n9999        13696.799448  13695.404091\n\n[10000 rows x 2 columns]",
      "text/html": "<div>\n<style scoped>\n    .dataframe tbody tr th:only-of-type {\n        vertical-align: middle;\n    }\n\n    .dataframe tbody tr th {\n        vertical-align: top;\n    }\n\n    .dataframe thead th {\n        text-align: right;\n    }\n</style>\n<table border=\"1\" class=\"dataframe\">\n  <thead>\n    <tr style=\"text-align: right;\">\n      <th></th>\n      <th>Arrival time (sec)</th>\n      <th>compare_time</th>\n    </tr>\n  </thead>\n  <tbody>\n    <tr>\n      <th>0</th>\n      <td>0.000000</td>\n      <td>0.000000</td>\n    </tr>\n    <tr>\n      <th>1</th>\n      <td>0.067744</td>\n      <td>0.000000</td>\n    </tr>\n    <tr>\n      <th>2</th>\n      <td>0.559184</td>\n      <td>0.067744</td>\n    </tr>\n    <tr>\n      <th>3</th>\n      <td>0.625319</td>\n      <td>0.559184</td>\n    </tr>\n    <tr>\n      <th>4</th>\n      <td>1.345066</td>\n      <td>0.625319</td>\n    </tr>\n    <tr>\n      <th>...</th>\n      <td>...</td>\n      <td>...</td>\n    </tr>\n    <tr>\n      <th>9995</th>\n      <td>13692.269647</td>\n      <td>13690.969302</td>\n    </tr>\n    <tr>\n      <th>9996</th>\n      <td>13692.593630</td>\n      <td>13692.269647</td>\n    </tr>\n    <tr>\n      <th>9997</th>\n      <td>13694.615122</td>\n      <td>13692.593630</td>\n    </tr>\n    <tr>\n      <th>9998</th>\n      <td>13695.404091</td>\n      <td>13694.615122</td>\n    </tr>\n    <tr>\n      <th>9999</th>\n      <td>13696.799448</td>\n      <td>13695.404091</td>\n    </tr>\n  </tbody>\n</table>\n<p>10000 rows × 2 columns</p>\n</div>"
     },
     "execution_count": 47,
     "metadata": {},
     "output_type": "execute_result"
    }
   ],
   "source": [
    "arrival_time_df"
   ],
   "metadata": {
    "collapsed": false,
    "pycharm": {
     "name": "#%%\n"
    }
   }
  },
  {
   "cell_type": "code",
   "execution_count": 48,
   "outputs": [],
   "source": [
    "arrival_time_df['Inter Arrival Time'] = arrival_time_df['Arrival time (sec)'] - arrival_time_df['compare_time']"
   ],
   "metadata": {
    "collapsed": false,
    "pycharm": {
     "name": "#%%\n"
    }
   }
  },
  {
   "cell_type": "code",
   "execution_count": 49,
   "outputs": [
    {
     "data": {
      "text/plain": "      Arrival time (sec)  compare_time  Inter Arrival Time\n0               0.000000      0.000000            0.000000\n1               0.067744      0.000000            0.067744\n2               0.559184      0.067744            0.491441\n3               0.625319      0.559184            0.066135\n4               1.345066      0.625319            0.719747\n...                  ...           ...                 ...\n9995        13692.269647  13690.969302            1.300345\n9996        13692.593630  13692.269647            0.323983\n9997        13694.615122  13692.593630            2.021492\n9998        13695.404091  13694.615122            0.788969\n9999        13696.799448  13695.404091            1.395357\n\n[10000 rows x 3 columns]",
      "text/html": "<div>\n<style scoped>\n    .dataframe tbody tr th:only-of-type {\n        vertical-align: middle;\n    }\n\n    .dataframe tbody tr th {\n        vertical-align: top;\n    }\n\n    .dataframe thead th {\n        text-align: right;\n    }\n</style>\n<table border=\"1\" class=\"dataframe\">\n  <thead>\n    <tr style=\"text-align: right;\">\n      <th></th>\n      <th>Arrival time (sec)</th>\n      <th>compare_time</th>\n      <th>Inter Arrival Time</th>\n    </tr>\n  </thead>\n  <tbody>\n    <tr>\n      <th>0</th>\n      <td>0.000000</td>\n      <td>0.000000</td>\n      <td>0.000000</td>\n    </tr>\n    <tr>\n      <th>1</th>\n      <td>0.067744</td>\n      <td>0.000000</td>\n      <td>0.067744</td>\n    </tr>\n    <tr>\n      <th>2</th>\n      <td>0.559184</td>\n      <td>0.067744</td>\n      <td>0.491441</td>\n    </tr>\n    <tr>\n      <th>3</th>\n      <td>0.625319</td>\n      <td>0.559184</td>\n      <td>0.066135</td>\n    </tr>\n    <tr>\n      <th>4</th>\n      <td>1.345066</td>\n      <td>0.625319</td>\n      <td>0.719747</td>\n    </tr>\n    <tr>\n      <th>...</th>\n      <td>...</td>\n      <td>...</td>\n      <td>...</td>\n    </tr>\n    <tr>\n      <th>9995</th>\n      <td>13692.269647</td>\n      <td>13690.969302</td>\n      <td>1.300345</td>\n    </tr>\n    <tr>\n      <th>9996</th>\n      <td>13692.593630</td>\n      <td>13692.269647</td>\n      <td>0.323983</td>\n    </tr>\n    <tr>\n      <th>9997</th>\n      <td>13694.615122</td>\n      <td>13692.593630</td>\n      <td>2.021492</td>\n    </tr>\n    <tr>\n      <th>9998</th>\n      <td>13695.404091</td>\n      <td>13694.615122</td>\n      <td>0.788969</td>\n    </tr>\n    <tr>\n      <th>9999</th>\n      <td>13696.799448</td>\n      <td>13695.404091</td>\n      <td>1.395357</td>\n    </tr>\n  </tbody>\n</table>\n<p>10000 rows × 3 columns</p>\n</div>"
     },
     "execution_count": 49,
     "metadata": {},
     "output_type": "execute_result"
    }
   ],
   "source": [
    "arrival_time_df"
   ],
   "metadata": {
    "collapsed": false,
    "pycharm": {
     "name": "#%%\n"
    }
   }
  },
  {
   "cell_type": "code",
   "execution_count": 50,
   "outputs": [
    {
     "name": "stdout",
     "output_type": "stream",
     "text": [
      "Minimum value of arrival time:  0.0\n",
      "Maximum value of arrival time:  12.498550266620441\n"
     ]
    }
   ],
   "source": [
    "print('Minimum value of arrival time: ', min(arrival_time_df['Inter Arrival Time']))\n",
    "print('Maximum value of arrival time: ', max(arrival_time_df['Inter Arrival Time']))"
   ],
   "metadata": {
    "collapsed": false,
    "pycharm": {
     "name": "#%%\n"
    }
   }
  },
  {
   "cell_type": "code",
   "execution_count": 51,
   "outputs": [],
   "source": [
    "import seaborn as sns"
   ],
   "metadata": {
    "collapsed": false,
    "pycharm": {
     "name": "#%%\n"
    }
   }
  },
  {
   "cell_type": "code",
   "execution_count": 69,
   "outputs": [
    {
     "data": {
      "text/plain": "[1, 2, 3, 4, 5, 6, 7, 8, 9, 10, 11, 12, 13, 14, 15, 16, 17, 18, 19, 20]"
     },
     "execution_count": 69,
     "metadata": {},
     "output_type": "execute_result"
    }
   ],
   "source": [
    "arrival_time_bins = [i for i in range(1, 21, 1)]\n",
    "arrival_time_bins"
   ],
   "metadata": {
    "collapsed": false,
    "pycharm": {
     "name": "#%%\n"
    }
   }
  },
  {
   "cell_type": "code",
   "execution_count": 83,
   "outputs": [
    {
     "data": {
      "text/plain": "<seaborn.axisgrid.FacetGrid at 0x7f968294dbb0>"
     },
     "execution_count": 83,
     "metadata": {},
     "output_type": "execute_result"
    },
    {
     "data": {
      "text/plain": "<Figure size 360x360 with 1 Axes>",
      "image/png": "[encoded data removed]"
     },
     "metadata": {
      "needs_background": "light"
     },
     "output_type": "display_data"
    }
   ],
   "source": [
    "sns.displot(arrival_time_df['Inter Arrival Time'], binwidth=0.3, kde=True)"
   ],
   "metadata": {
    "collapsed": false,
    "pycharm": {
     "name": "#%%\n"
    }
   }
  },
  {
   "cell_type": "markdown",
   "source": [
    "Location Anaylze"
   ],
   "metadata": {
    "collapsed": false,
    "pycharm": {
     "name": "#%% md\n"
    }
   }
  },
  {
   "cell_type": "code",
   "execution_count": 76,
   "outputs": [],
   "source": [
    "import numpy as np"
   ],
   "metadata": {
    "collapsed": false,
    "pycharm": {
     "name": "#%%\n"
    }
   }
  },
  {
   "cell_type": "code",
   "execution_count": 84,
   "outputs": [
    {
     "data": {
      "text/plain": "<seaborn.axisgrid.FacetGrid at 0x7f96823e4a90>"
     },
     "execution_count": 84,
     "metadata": {},
     "output_type": "execute_result"
    },
    {
     "data": {
      "text/plain": "<Figure size 360x360 with 1 Axes>",
      "image/png": "[encoded data removed]"
     },
     "metadata": {
      "needs_background": "light"
     },
     "output_type": "display_data"
    }
   ],
   "source": [
    "sns.displot(df['Base station '],bins=[i for i in range(1, 21, 1)], kde=True)\n"
   ],
   "metadata": {
    "collapsed": false,
    "pycharm": {
     "name": "#%%\n"
    }
   }
  },
  {
   "cell_type": "markdown",
   "source": [
    "Call Duration"
   ],
   "metadata": {
    "collapsed": false,
    "pycharm": {
     "name": "#%% md\n"
    }
   }
  },
  {
   "cell_type": "code",
   "execution_count": 90,
   "outputs": [
    {
     "data": {
      "text/plain": "<seaborn.axisgrid.FacetGrid at 0x7f968201b490>"
     },
     "execution_count": 90,
     "metadata": {},
     "output_type": "execute_result"
    },
    {
     "data": {
      "text/plain": "<Figure size 360x360 with 1 Axes>",
      "image/png": "[encoded data removed]"
     },
     "metadata": {
      "needs_background": "light"
     },
     "output_type": "display_data"
    }
   ],
   "source": [
    "sns.displot(df['Call duration (sec)'], binwidth=50, kde=True)\n"
   ],
   "metadata": {
    "collapsed": false,
    "pycharm": {
     "name": "#%%\n"
    }
   }
  },
  {
   "cell_type": "markdown",
   "source": [
    "Velocity"
   ],
   "metadata": {
    "collapsed": false,
    "pycharm": {
     "name": "#%% md\n"
    }
   }
  },
  {
   "cell_type": "code",
   "execution_count": 94,
   "outputs": [
    {
     "data": {
      "text/plain": "<seaborn.axisgrid.FacetGrid at 0x7f968493d2b0>"
     },
     "execution_count": 94,
     "metadata": {},
     "output_type": "execute_result"
    },
    {
     "data": {
      "text/plain": "<Figure size 360x360 with 1 Axes>",
      "image/png": "[encoded data removed]"
     },
     "metadata": {
      "needs_background": "light"
     },
     "output_type": "display_data"
    }
   ],
   "source": [
    "sns.displot(df['velocity (km/h)'], binwidth=2, kde=True)"
   ],
   "metadata": {
    "collapsed": false,
    "pycharm": {
     "name": "#%%\n"
    }
   }
  },
  {
   "cell_type": "code",
   "execution_count": 7,
   "outputs": [
    {
     "data": {
      "text/plain": "19    557\n7     545\n2     525\n4     518\n15    514\n1     512\n13    510\n17    507\n8     506\n20    497\n10    495\n9     494\n12    494\n16    493\n14    488\n11    483\n6     480\n18    476\n5     460\n3     446\nName: Base station , dtype: int64"
     },
     "metadata": {},
     "output_type": "execute_result",
     "execution_count": 7
    }
   ],
   "source": [
    "df['Base station '].value_counts()"
   ],
   "metadata": {
    "collapsed": false,
    "pycharm": {
     "name": "#%%\n",
     "is_executing": false
    }
   }
  },
  {
   "cell_type": "code",
   "execution_count": 5,
   "outputs": [
    {
     "data": {
      "text/plain": "0       18\n1        7\n2        6\n3       14\n4        2\n        ..\n9995     4\n9996    16\n9997     3\n9998    12\n9999     7\nName: Base station , Length: 10000, dtype: int64"
     },
     "metadata": {},
     "output_type": "execute_result",
     "execution_count": 5
    }
   ],
   "source": [
    "df['Base station ']\n"
   ],
   "metadata": {
    "collapsed": false,
    "pycharm": {
     "name": "#%%\n",
     "is_executing": false
    }
   }
  },
  {
   "cell_type": "code",
   "execution_count": 7,
   "outputs": [
    {
     "data": {
      "text/plain": "0       125.934254\n1        95.510881\n2       127.757456\n3       134.310552\n4       112.272359\n           ...    \n9995    119.601001\n9996    114.278648\n9997    123.540944\n9998    123.507947\n9999    122.363562\nName: velocity (km/h), Length: 10000, dtype: float64"
     },
     "metadata": {},
     "output_type": "execute_result",
     "execution_count": 7
    }
   ],
   "source": [
    "df['velocity (km/h)']"
   ],
   "metadata": {
    "collapsed": false,
    "pycharm": {
     "name": "#%%\n",
     "is_executing": false
    }
   }
  },
  {
   "cell_type": "code",
   "execution_count": 8,
   "outputs": [
    {
     "data": {
      "text/plain": "120.07209801685764"
     },
     "metadata": {},
     "output_type": "execute_result",
     "execution_count": 8
    }
   ],
   "source": [
    "df['velocity (km/h)'].mean()"
   ],
   "metadata": {
    "collapsed": false,
    "pycharm": {
     "name": "#%%\n",
     "is_executing": false
    }
   }
  },
  {
   "cell_type": "code",
   "execution_count": 9,
   "outputs": [
    {
     "data": {
      "text/plain": "9.019057897896923"
     },
     "metadata": {},
     "output_type": "execute_result",
     "execution_count": 9
    }
   ],
   "source": [
    "df['velocity (km/h)'].std()\n",
    "\n"
   ],
   "metadata": {
    "collapsed": false,
    "pycharm": {
     "name": "#%%\n",
     "is_executing": false
    }
   }
  },
  {
   "cell_type": "code",
   "execution_count": null,
   "outputs": [],
   "source": [
    "\n"
   ],
   "metadata": {
    "collapsed": false,
    "pycharm": {
     "name": "#%%\n"
    }
   }
  }
 ],
 "metadata": {
  "kernelspec": {
   "display_name": "Python 3",
   "language": "python",
   "name": "python3"
  },
  "language_info": {
   "codemirror_mode": {
    "name": "ipython",
    "version": 2
   },
   "file_extension": ".py",
   "mimetype": "text/x-python",
   "name": "python",
   "nbconvert_exporter": "python",
   "pygments_lexer": "ipython2",
   "version": "2.7.6"
  },
  "pycharm": {
   "stem_cell": {
    "cell_type": "raw",
    "source": [],
    "metadata": {
     "collapsed": false
    }
   }
  }
 },
 "nbformat": 4,
 "nbformat_minor": 0
}