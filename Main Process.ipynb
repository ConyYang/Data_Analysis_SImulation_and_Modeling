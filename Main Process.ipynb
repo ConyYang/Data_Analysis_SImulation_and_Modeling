{
 "cells": [
  {
   "cell_type": "code",
   "execution_count": null,
   "metadata": {},
   "outputs": [],
   "source": [
    "int num_Total_Calls = 0\n",
    "int num_Blocked_Calls = 0\n",
    "int num_Dropped_Calls = 0\n",
    "stationList = [10] * 20\n",
    "\n",
    "# Assumption: the total number of calls is 10000\n",
    "call_Id = 1\n",
    "\n",
    "# Probability distribution of  base stations\n",
    "X_Distrib = Discrete_Distribution(range = (1, 21), uniform_distribution)\n",
    "X = X_Distrib.generate(size=10000)\n",
    "\n",
    "# Probability distribution of speed (km/h)\n",
    "Y_Distrib = Continuous_Distribution(range = (76, 168), normal_distribution)\n",
    "Y = Y_Distrib.generate(size=10000)\n",
    "\n",
    "# Probability distribution of call duration (sec)\n",
    "Z_Distrib = Continuous_Distribution(range = (122, 126), normal_distribution)\n",
    "Z = Z_Distrib.generate(size=10000)\n",
    "\n",
    "while (call_Id <= 10000):\n",
    "    # Randomly generate inter-arrival time\n",
    "    inter_Arrival_Time = random.randn()\n",
    "    Hold(inter_Arrival_Time)\n",
    "    \n",
    "    Create(Call)\n",
    "    \n",
    "    Call.arrival_no = call_Id\n",
    "    if random.uniform(0, 1) <= 0.5:\n",
    "            Call.direction = \"Left\"\n",
    "        else: \n",
    "            Call.direction = \"Right\"         \n",
    "    Call.base_Station = X[call_Id]      \n",
    "    Call.speed = Y[call_Id]\n",
    "    Call.duration = Z[call_Id]\n",
    "    \n",
    "    Activate(Call)\n",
    "    \n",
    "    call_Id += 1"
   ]
  },
  {
   "cell_type": "code",
   "execution_count": 4,
   "metadata": {},
   "outputs": [
    {
     "name": "stdout",
     "output_type": "stream",
     "text": [
      "0\n"
     ]
    }
   ],
   "source": [
    "def Activate(Call c):\n",
    "    # Update variable\n",
    "    num_Total_Calls += 1\n",
    "    \n",
    "    \n",
    "while 1:    \n",
    "    if stationList[c.base_Station - 1] > 0: # base station 1 -> index 0\n",
    "        # Initiation\n",
    "        stationList[c.base_Station - 1] -= 1\n",
    "        \n",
    "        # Calculate the time to reach the next station (in sec)\n",
    "        nextStationTime = 2 / c.speed * 3600\n",
    "        \n",
    "        if nextStationTime >= c.duration:\n",
    "            # Termination\n",
    "            Hold(c.duration)\n",
    "            stationList.[c.base_Station - 1] += 1  \n",
    "            return\n",
    "            \n",
    "        else if (c.base_Station == 1 && c.direction == \"Left\") || (c.base_Station == 20 && c.direction == \"Right\"):\n",
    "            # Termination\n",
    "            Hold(nextStationTime)\n",
    "            stationList.[c.base_Station - 1] += 1\n",
    "            return \n",
    "            \n",
    "        else:\n",
    "            # Handover\n",
    "            Hold(nextStationTime)\n",
    "            stationList.[c.base_Station - 1] += 1 #The current channel is released\n",
    "            c.duration -= nextStationTime\n",
    "            if c.direction == \"Left\":\n",
    "                c.base_Station -= 1\n",
    "            else:\n",
    "                c.base_Station += 1\n",
    "            continue\n",
    "    \n",
    "    else:\n",
    "        # Update variable\n",
    "        if(c.base_Station == X[call_Id]): # The call is at its initiating station\n",
    "            num_Blocked_Calls += 1\n",
    "        else: # The call has moved to next stations\n",
    "            num_Dropped_Calls += 1\n",
    "    \n",
    "    \n",
    "    "
   ]
  },
  {
   "cell_type": "code",
   "execution_count": null,
   "metadata": {},
   "outputs": [],
   "source": []
  }
 ],
 "metadata": {
  "kernelspec": {
   "display_name": "Python 3",
   "language": "python",
   "name": "python3"
  },
  "language_info": {
   "codemirror_mode": {
    "name": "ipython",
    "version": 3
   },
   "file_extension": ".py",
   "mimetype": "text/x-python",
   "name": "python",
   "nbconvert_exporter": "python",
   "pygments_lexer": "ipython3",
   "version": "3.8.5"
  }
 },
 "nbformat": 4,
 "nbformat_minor": 4
}
